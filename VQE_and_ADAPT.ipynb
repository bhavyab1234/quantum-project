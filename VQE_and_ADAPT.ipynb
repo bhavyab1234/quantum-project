{
 "cells": [
  {
   "cell_type": "code",
   "execution_count": 1,
   "id": "b233869f-978c-45ab-beea-dde33c30b4b5",
   "metadata": {},
   "outputs": [],
   "source": [
    "import numpy as np\n",
    "\n",
    "from qiskit_nature.second_q.drivers import PySCFDriver\n",
    "from qiskit_nature.second_q.formats import MoleculeInfo\n",
    "from qiskit_nature.second_q.mappers import ParityMapper\n",
    "from qiskit_nature.second_q.algorithms import GroundStateEigensolver\n",
    "from qiskit_nature.second_q.circuit.library import HartreeFock, UCCSD\n",
    "from qiskit_nature.second_q.transformers import FreezeCoreTransformer\n",
    "\n",
    "from qiskit_algorithms.optimizers import SLSQP\n",
    "from qiskit_algorithms.minimum_eigensolvers import AdaptVQE, VQE\n",
    "\n",
    "from qiskit.primitives import Estimator"
   ]
  },
  {
   "cell_type": "code",
   "execution_count": 36,
   "id": "d865664b-a01b-494b-bb82-32aafd059bab",
   "metadata": {},
   "outputs": [],
   "source": [
    "# Use PySCF, a classical computational chemistry software\n",
    "# package, to compute the one-body and two-body integrals in\n",
    "# molecular-orbital basis, necessary to form the Fermionic operator\n",
    "info = MoleculeInfo(\n",
    "    [\"Na\", \"H\"],\n",
    "    [\n",
    "        (0.0000, 0.0000, 0.0000),     # Sodium at origin\n",
    "        (0.0000, 0.0000, 1.887),      # Hydrogen 1.887 Å along z-axis (approximate bond length)\n",
    "    ]\n",
    ")\n",
    "\n",
    "\n",
    "driver = PySCFDriver.from_molecule(info, basis=\"sto3g\")\n",
    "molecule = driver.run()\n",
    "\n",
    "transformer = FreezeCoreTransformer()\n",
    "molecule = transformer.transform(molecule)\n",
    "hamiltonian = molecule.hamiltonian.second_q_op()\n",
    "mapper = ParityMapper(num_particles=molecule.num_particles)\n",
    "tapered_mapper = molecule.get_tapered_mapper(mapper)\n",
    "qubit_op = tapered_mapper.map(hamiltonian)"
   ]
  },
  {
   "cell_type": "code",
   "execution_count": 37,
   "id": "ee7b95c4-238c-4457-baf5-661147979d8f",
   "metadata": {
    "scrolled": true
   },
   "outputs": [
    {
     "name": "stderr",
     "output_type": "stream",
     "text": [
      "/tmp/ipykernel_248/1276863301.py:8: DeprecationWarning: The class ``qiskit.primitives.estimator.Estimator`` is deprecated as of qiskit 1.2. It will be removed no earlier than 3 months after the release date. All implementations of the `BaseEstimatorV1` interface have been deprecated in favor of their V2 counterparts. The V2 alternative for the `Estimator` class is `StatevectorEstimator`.\n",
      "  estimator = Estimator()\n"
     ]
    }
   ],
   "source": [
    "# setup the initial state for the variational form\n",
    "init_state = HartreeFock(\n",
    "            molecule.num_spatial_orbitals,\n",
    "            molecule.num_particles,\n",
    "            tapered_mapper,\n",
    "        )\n",
    "\n",
    "estimator = Estimator()\n",
    "\n",
    "optimizer = SLSQP(maxiter=10000, ftol=1e-9)"
   ]
  },
  {
   "cell_type": "code",
   "execution_count": 38,
   "id": "198b9962-058b-49d1-8a6c-14126145857b",
   "metadata": {},
   "outputs": [
    {
     "name": "stdout",
     "output_type": "stream",
     "text": [
      "=== GROUND STATE ENERGY ===\n",
      " \n",
      "* Electronic ground state energy (Hartree): -163.400080169356\n",
      "  - computed part:      -0.814454852864\n",
      "  - FreezeCoreTransformer extracted energy part: -162.585625316492\n",
      "~ Nuclear repulsion energy (Hartree): 3.084763815644\n",
      "> Total ground state energy (Hartree): -160.315316353712\n",
      " \n",
      "=== MEASURED OBSERVABLES ===\n",
      " \n",
      "  0:  # Particles: 2.000 S: 0.000 S^2: 0.000 M: 0.000\n",
      " \n",
      "=== DIPOLE MOMENTS ===\n",
      " \n",
      "~ Nuclear dipole moment (a.u.): [0.0  0.0  3.5659132]\n",
      " \n",
      "  0: \n",
      "  * Electronic dipole moment (a.u.): [None  None  5.95848909582]\n",
      "    - computed part:      [None  None  5.977055122539]\n",
      "    - FreezeCoreTransformer extracted energy part: [0.0  0.0  -0.018566026719]\n",
      "  > Dipole moment (a.u.): [None  None  -2.39257589582]  Total: None\n",
      "                 (debye): [None  None  -6.081320765714]  Total: None\n",
      " \n"
     ]
    }
   ],
   "source": [
    "import time\n",
    "vqe_ansatz = UCCSD(\n",
    "    molecule.num_spatial_orbitals,\n",
    "    molecule.num_particles,\n",
    "    tapered_mapper,\n",
    "    initial_state=init_state\n",
    ")\n",
    "i=0\n",
    "UCC_diff_times = []\n",
    "while i<1:\n",
    "    UCCstime = time.time()\n",
    "    vqe = VQE(estimator, vqe_ansatz, optimizer)\n",
    "    vqe.initial_point = [0] * vqe_ansatz.num_parameters\n",
    "    algo = GroundStateEigensolver(tapered_mapper, vqe)\n",
    "    result_vqe = algo.solve(molecule)\n",
    "    print(result_vqe)\n",
    "    energy_vqe = result_vqe.eigenvalues[0]\n",
    "    UCCetime = time.time()\n",
    "    UCC_diff_times.append(UCCetime - UCCstime)\n",
    "    i+=1\n"
   ]
  },
  {
   "cell_type": "code",
   "execution_count": null,
   "id": "898a5a70-d8ed-4d4d-8020-42a4f6174415",
   "metadata": {},
   "outputs": [
    {
     "name": "stdout",
     "output_type": "stream",
     "text": [
      "3.0847638156438792\n"
     ]
    }
   ],
   "source": [
    "adapt_vqe_ansatz = UCCSD(\n",
    "    molecule.num_spatial_orbitals,\n",
    "    molecule.num_particles,\n",
    "    tapered_mapper,\n",
    "    initial_state=init_state\n",
    ")\n",
    "import time\n",
    "i=0\n",
    "ADAPT_time_diffs = []\n",
    "print(molecule.nuclear_repulsion_energy)\n",
    "while i<1:\n",
    "    adaptstime = time.time()\n",
    "    adapt_vqe = AdaptVQE(VQE(estimator, adapt_vqe_ansatz, optimizer))\n",
    "    result_adapt_vqe = adapt_vqe.compute_minimum_eigenvalue(qubit_op)\n",
    "    energy_adapt_vqe = result_adapt_vqe.eigenvalue\n",
    "    adaptetime = time.time()\n",
    "    ADAPT_time_diffs.append(adaptetime - adaptstime)\n",
    "    i+=1"
   ]
  },
  {
   "cell_type": "code",
   "execution_count": 35,
   "id": "b25fdd64-6355-4765-8fdd-53a1abe7de57",
   "metadata": {},
   "outputs": [
    {
     "name": "stdout",
     "output_type": "stream",
     "text": [
      "+-----------+---------------------+----------------------------------+\n",
      "|   Ansatz  |   Energy (Hartree)  |              Gates               |\n",
      "+-----------+---------------------+----------------------------------+\n",
      "|   UCCSD   | -23.857641802497223 | OrderedDict([('EvolvedOps', 1)]) |\n",
      "| ADAPT-VQE |  -23.85763255198414 | OrderedDict([('EvolvedOps', 1)]) |\n",
      "+-----------+---------------------+----------------------------------+\n",
      "Average Execution time for 5 iterations of UCCSD = 82.0517 seconds\n",
      "Average Execution time for 5 iterations of ADAPTVQE = 722.7194 seconds\n",
      "-14.21412576423894\n",
      "27\n",
      "Number of operators selected in ansatz: 26\n",
      "1\n",
      "VQE operators  30\n"
     ]
    }
   ],
   "source": [
    "from prettytable import PrettyTable\n",
    "\n",
    "table = PrettyTable()\n",
    "table.field_names = [\"Ansatz\",\"Energy (Hartree)\",\"Gates\"]\n",
    "\n",
    "vqe_cirq = result_vqe.raw_result.optimal_circuit\n",
    "table.add_row(['UCCSD', str(energy_vqe), vqe_cirq.count_ops()])\n",
    "\n",
    "adapt_vqe_cirq = result_adapt_vqe.optimal_circuit\n",
    "table.add_row(['ADAPT-VQE', str(result_adapt_vqe.eigenvalue), adapt_vqe_cirq.count_ops()])\n",
    "\n",
    "print(table)\n",
    "\n",
    "print(\"Average Execution time for 5 iterations of UCCSD = {:.4f} seconds\".format(sum(UCC_diff_times)/len(UCC_diff_times)))\n",
    "print(\"Average Execution time for 5 iterations of ADAPTVQE = {:.4f} seconds\".format(sum(ADAPT_time_diffs)/len(ADAPT_time_diffs)))\n",
    "\n",
    "nuclear_repulsion = molecule.nuclear_repulsion_energy\n",
    "print(nuclear_repulsion + result_adapt_vqe.eigenvalue)\n",
    "print(result_adapt_vqe.num_iterations)\n",
    "print(\"Number of operators selected in ansatz:\", len(adapt_vqe._excitation_list))\n",
    "print(len(ADAPT_time_diffs))\n",
    "print(\"VQE operators \", len(vqe_cirq._excitation_list))"
   ]
  },
  {
   "cell_type": "code",
   "execution_count": 7,
   "id": "eca797d7-7914-4367-8190-ad3bde05a7af",
   "metadata": {},
   "outputs": [
    {
     "data": {
      "image/png": "[encoded data removed]",
      "text/plain": [
       "<Figure size 600x400 with 1 Axes>"
      ]
     },
     "metadata": {},
     "output_type": "display_data"
    },
    {
     "data": {
      "image/png": "[encoded data removed]",
      "text/plain": [
       "<Figure size 600x400 with 1 Axes>"
      ]
     },
     "metadata": {},
     "output_type": "display_data"
    }
   ],
   "source": [
    "import matplotlib.pyplot as plt\n",
    "\n",
    "# Energies (already computed)\n",
    "energies = [energy_vqe, result_adapt_vqe.eigenvalue]  # ensure they're floats, not complex\n",
    "labels = ['UCCSD', 'ADAPT-VQE']\n",
    "\n",
    "# Gates (already extracted)\n",
    "gate_counts = [vqe_cirq.count_ops().get(\"EvolvedOps\", 0), adapt_vqe_cirq.count_ops().get(\"EvolvedOps\", 0)]\n",
    "\n",
    "# --- Plot Energy Comparison ---\n",
    "plt.figure(figsize=(6, 4))\n",
    "plt.bar(labels, energies, color=['skyblue', 'salmon'])\n",
    "plt.ylabel(\"Energy (Hartree)\")\n",
    "plt.title(\"Energy Comparison\")\n",
    "plt.grid(True, axis='y')\n",
    "plt.tight_layout()\n",
    "plt.show()\n",
    "\n",
    "# --- Plot Gate Count Comparison ---\n",
    "plt.figure(figsize=(6, 4))\n",
    "plt.bar(labels, gate_counts, color=['skyblue', 'salmon'])\n",
    "plt.ylabel(\"Gate Count\")\n",
    "plt.title(\"Circuit Depth Comparison\")\n",
    "plt.grid(True, axis='y')\n",
    "plt.tight_layout()\n",
    "plt.show()\n"
   ]
  },
  {
   "cell_type": "code",
   "execution_count": null,
   "id": "2057b527-b983-4e19-9e73-f25e88eb8fce",
   "metadata": {},
   "outputs": [],
   "source": []
  }
 ],
 "metadata": {
  "kernelspec": {
   "display_name": "Python 3 [qBraid]",
   "language": "python",
   "name": "python3_qbraid_sdk_9j9sjy"
  },
  "language_info": {
   "codemirror_mode": {
    "name": "ipython",
    "version": 3
   },
   "file_extension": ".py",
   "mimetype": "text/x-python",
   "name": "python",
   "nbconvert_exporter": "python",
   "pygments_lexer": "ipython3",
   "version": "3.11.9"
  }
 },
 "nbformat": 4,
 "nbformat_minor": 5
}
